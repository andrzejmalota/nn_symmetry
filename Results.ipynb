{
 "cells": [
  {
   "cell_type": "code",
   "execution_count": 2,
   "metadata": {},
   "outputs": [],
   "source": [
    "import pickle\n",
    "import matplotlib.pyplot as plt\n",
    "import pandas as pd\n",
    "import seaborn as sns"
   ]
  },
  {
   "cell_type": "code",
   "execution_count": 3,
   "metadata": {},
   "outputs": [],
   "source": [
    "sns.set_style(\"whitegrid\")"
   ]
  },
  {
   "cell_type": "markdown",
   "metadata": {},
   "source": [
    "# Results"
   ]
  },
  {
   "cell_type": "code",
   "execution_count": 4,
   "metadata": {},
   "outputs": [],
   "source": [
    "with open(\"results3.pickle\",'rb') as f:\n",
    "    result = pickle.load(f)"
   ]
  },
  {
   "cell_type": "code",
   "execution_count": 5,
   "metadata": {},
   "outputs": [],
   "source": [
    "permutations = [\"1E506\", \"1E304\", \"1E449\",\"1E149\", \"1E21\", \"1E10\"]\n",
    "weights = [\"2E6\", \"1E6\", \"1E6\", \"1E6\", \"1E6\", \"1E6\"]\n",
    "order = [5, 4, 3, 1, 2, 0]"
   ]
  },
  {
   "cell_type": "code",
   "execution_count": 6,
   "metadata": {},
   "outputs": [],
   "source": [
    "result_df = pd.DataFrame(columns=[\"Model\", \"Approx. permutations amount\", \"Approx. weights amount\", \"Validation accuracy\", \"Validation loss\"])\n",
    "for i in order:\n",
    "    result_df = result_df.append({\"Model\": i , \\\n",
    "                                  \"Approx. permutations amount\":permutations[i],\n",
    "                                  \"Approx. weights amount\":weights[i],\n",
    "                                  \"Validation accuracy\":max(result[i]['val_acc']),\n",
    "                                  \"Validation loss\":min(result[i]['val_loss'])\n",
    "                                 }, ignore_index=True)"
   ]
  },
  {
   "cell_type": "markdown",
   "metadata": {},
   "source": [
    "### Models description:\n",
    "* Model 0 - dense, 1 layer\n",
    "* Model 1 - dense, 2 layers\n",
    "* Model 2 - dense, 3 layers\n",
    "* Model 3 - dense resnet, 3 layers\n",
    "* Model 4 - 2 convolutional layers, 1 dense\n",
    "* Model 5 - resnet with 2 convolutional layers, 1 dense\n",
    "\n",
    "\n",
    "Results are sorted from highest to lowest permutations amount."
   ]
  },
  {
   "cell_type": "code",
   "execution_count": 7,
   "metadata": {},
   "outputs": [
    {
     "data": {
      "text/html": [
       "<div>\n",
       "<style scoped>\n",
       "    .dataframe tbody tr th:only-of-type {\n",
       "        vertical-align: middle;\n",
       "    }\n",
       "\n",
       "    .dataframe tbody tr th {\n",
       "        vertical-align: top;\n",
       "    }\n",
       "\n",
       "    .dataframe thead th {\n",
       "        text-align: right;\n",
       "    }\n",
       "</style>\n",
       "<table border=\"1\" class=\"dataframe\">\n",
       "  <thead>\n",
       "    <tr style=\"text-align: right;\">\n",
       "      <th></th>\n",
       "      <th>Model</th>\n",
       "      <th>Approx. permutations amount</th>\n",
       "      <th>Approx. weights amount</th>\n",
       "      <th>Validation accuracy</th>\n",
       "      <th>Validation loss</th>\n",
       "    </tr>\n",
       "  </thead>\n",
       "  <tbody>\n",
       "    <tr>\n",
       "      <td>0</td>\n",
       "      <td>5</td>\n",
       "      <td>1E10</td>\n",
       "      <td>1E6</td>\n",
       "      <td>0.9779</td>\n",
       "      <td>0.080820</td>\n",
       "    </tr>\n",
       "    <tr>\n",
       "      <td>1</td>\n",
       "      <td>4</td>\n",
       "      <td>1E21</td>\n",
       "      <td>1E6</td>\n",
       "      <td>0.9712</td>\n",
       "      <td>0.107859</td>\n",
       "    </tr>\n",
       "    <tr>\n",
       "      <td>2</td>\n",
       "      <td>3</td>\n",
       "      <td>1E149</td>\n",
       "      <td>1E6</td>\n",
       "      <td>0.9698</td>\n",
       "      <td>0.112946</td>\n",
       "    </tr>\n",
       "    <tr>\n",
       "      <td>3</td>\n",
       "      <td>1</td>\n",
       "      <td>1E304</td>\n",
       "      <td>1E6</td>\n",
       "      <td>0.9677</td>\n",
       "      <td>0.114379</td>\n",
       "    </tr>\n",
       "    <tr>\n",
       "      <td>4</td>\n",
       "      <td>2</td>\n",
       "      <td>1E449</td>\n",
       "      <td>1E6</td>\n",
       "      <td>0.9677</td>\n",
       "      <td>0.112629</td>\n",
       "    </tr>\n",
       "    <tr>\n",
       "      <td>5</td>\n",
       "      <td>0</td>\n",
       "      <td>1E506</td>\n",
       "      <td>2E6</td>\n",
       "      <td>0.9720</td>\n",
       "      <td>0.102974</td>\n",
       "    </tr>\n",
       "  </tbody>\n",
       "</table>\n",
       "</div>"
      ],
      "text/plain": [
       "  Model Approx. permutations amount Approx. weights amount  \\\n",
       "0     5                        1E10                    1E6   \n",
       "1     4                        1E21                    1E6   \n",
       "2     3                       1E149                    1E6   \n",
       "3     1                       1E304                    1E6   \n",
       "4     2                       1E449                    1E6   \n",
       "5     0                       1E506                    2E6   \n",
       "\n",
       "   Validation accuracy  Validation loss  \n",
       "0               0.9779         0.080820  \n",
       "1               0.9712         0.107859  \n",
       "2               0.9698         0.112946  \n",
       "3               0.9677         0.114379  \n",
       "4               0.9677         0.112629  \n",
       "5               0.9720         0.102974  "
      ]
     },
     "execution_count": 7,
     "metadata": {},
     "output_type": "execute_result"
    }
   ],
   "source": [
    "result_df"
   ]
  },
  {
   "cell_type": "markdown",
   "metadata": {},
   "source": [
    "## Acuracies by permutations amount"
   ]
  },
  {
   "cell_type": "code",
   "execution_count": 25,
   "metadata": {},
   "outputs": [
    {
     "data": {
      "text/plain": [
       "Text(0.5, 1.0, 'Accuracies')"
      ]
     },
     "execution_count": 25,
     "metadata": {},
     "output_type": "execute_result"
    },
    {
     "data": {
      "image/png": "[encoded data removed]",
      "text/plain": [
       "<Figure size 864x576 with 1 Axes>"
      ]
     },
     "metadata": {},
     "output_type": "display_data"
    }
   ],
   "source": [
    "plt.figure(figsize=(12, 8))\n",
    "accs = [max(r['val_acc']) for r in result]\n",
    "g = sns.barplot(x=\"Approx. permutations amount\" ,y=\"Validation accuracy\", data=result_df)\n",
    "\n",
    "for index, row in result_df.iterrows():\n",
    "    g.text(index, row[\"Validation accuracy\"]+0.01, \"Model \" + str(row[\"Model\"]), color='black', ha=\"center\")\n",
    "\n",
    "plt.ylim([0.9, 1])\n",
    "plt.xlabel(\"Permutations amount\")\n",
    "plt.ylabel(\"Validation accuracy\")\n",
    "plt.title(\"Accuracies\")"
   ]
  },
  {
   "cell_type": "markdown",
   "metadata": {},
   "source": [
    "## Losses by permutations amount"
   ]
  },
  {
   "cell_type": "code",
   "execution_count": 27,
   "metadata": {},
   "outputs": [
    {
     "data": {
      "text/plain": [
       "Text(0, 0.5, 'Validation loss')"
      ]
     },
     "execution_count": 27,
     "metadata": {},
     "output_type": "execute_result"
    },
    {
     "data": {
      "image/png": "[encoded data removed]",
      "text/plain": [
       "<Figure size 864x576 with 1 Axes>"
      ]
     },
     "metadata": {},
     "output_type": "display_data"
    }
   ],
   "source": [
    "plt.figure(figsize=(12, 8))\n",
    "accs = [max(r['val_acc']) for r in result]\n",
    "g = sns.barplot(x=\"Approx. permutations amount\" ,y=\"Validation loss\", data=result_df)\n",
    "\n",
    "for index, row in result_df.iterrows():\n",
    "    g.text(index, row[\"Validation loss\"]+0.01, \"Model \" + str(row[\"Model\"]), color='black', ha=\"center\")\n",
    "\n",
    "plt.xlabel(\"Model number\")\n",
    "plt.ylabel(\"Validation loss\")"
   ]
  },
  {
   "cell_type": "markdown",
   "metadata": {},
   "source": [
    "## Accuracies"
   ]
  },
  {
   "cell_type": "code",
   "execution_count": 10,
   "metadata": {},
   "outputs": [
    {
     "data": {
      "text/plain": [
       "(0.9, 1)"
      ]
     },
     "execution_count": 10,
     "metadata": {},
     "output_type": "execute_result"
    },
    {
     "data": {
      "image/png": "[encoded data removed]",
      "text/plain": [
       "<Figure size 864x576 with 1 Axes>"
      ]
     },
     "metadata": {},
     "output_type": "display_data"
    }
   ],
   "source": [
    "plt.figure(figsize=(12, 8))\n",
    "accs = [max(r['val_acc']) for r in result]\n",
    "sns.barplot(x=\"Model\" ,y=\"Validation accuracy\", data=result_df.sort_values(by=\"Model\"))\n",
    "plt.xlabel(\"Model number\")\n",
    "plt.ylabel(\"Validation accuracy\")\n",
    "plt.ylim([0.9, 1])\n"
   ]
  },
  {
   "cell_type": "markdown",
   "metadata": {},
   "source": [
    "# Conclusions\n",
    "\n",
    "* Despite trmendous difference in symmetry levels of particular architectures, results don't differ that much.\n",
    "* Adding residual block, which decreases symmetry, increased perofrmance both in case of architectures with dense layers (models 2 and 3) and convolutional layers (models 4 and 5).\n",
    "* Weight amount seems to be a big factor, with model 0 achieving second highest performance despite having the most possible permutations (highest symmetry).\n",
    "* Analysing this subject is challenging due to difficult way of comint to specific amount of permutations and weights, with both of these attributes being sensitive to architectures."
   ]
  },
  {
   "cell_type": "code",
   "execution_count": null,
   "metadata": {},
   "outputs": [],
   "source": []
  }
 ],
 "metadata": {
  "kernelspec": {
   "display_name": "Python 3",
   "language": "python",
   "name": "python3"
  },
  "language_info": {
   "codemirror_mode": {
    "name": "ipython",
    "version": 3
   },
   "file_extension": ".py",
   "mimetype": "text/x-python",
   "name": "python",
   "nbconvert_exporter": "python",
   "pygments_lexer": "ipython3",
   "version": "3.7.4"
  }
 },
 "nbformat": 4,
 "nbformat_minor": 2
}
