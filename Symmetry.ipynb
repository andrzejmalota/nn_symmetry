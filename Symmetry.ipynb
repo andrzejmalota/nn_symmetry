{
 "cells": [
  {
   "cell_type": "code",
   "execution_count": 67,
   "metadata": {
    "colab": {},
    "colab_type": "code",
    "id": "G33Fzg6V6sI5"
   },
   "outputs": [],
   "source": [
    "import tensorflow as tf\n",
    "import numpy as np\n",
    "from tensorflow.keras import datasets, layers, models\n",
    "from tensorflow.keras.layers import Dense, Conv2D, Flatten, Input, ReLU, Add\n",
    "from tensorflow.keras.models import Model\n",
    "\n",
    "import matplotlib.pyplot as plt"
   ]
  },
  {
   "cell_type": "code",
   "execution_count": 68,
   "metadata": {
    "colab": {},
    "colab_type": "code",
    "id": "kqLmaFB36vMZ"
   },
   "outputs": [],
   "source": [
    "NUM_IMAGES = 20000\n",
    "\n",
    "(train_images, train_labels), (test_images, test_labels) = datasets.mnist.load_data()\n",
    "train_images, test_images = train_images / 255.0, test_images / 255.0\n",
    "\n",
    "order = np.random.permutation(len(train_images))\n",
    "train_images = train_images[order]\n",
    "train_labels = train_labels[order]\n",
    "\n",
    "train_images = train_images[:NUM_IMAGES]\n",
    "train_labels = train_labels[:NUM_IMAGES]\n",
    "train_images = np.reshape(train_images, (np.shape(train_images)[0], -1))\n",
    "conv_train_images = np.reshape(train_images, (np.shape(train_images)[0], 28, 28, 1))\n",
    "\n",
    "test_images = np.reshape(test_images, (np.shape(test_images)[0], -1))\n",
    "conv_test_images = np.reshape(test_images, (np.shape(test_images)[0], 28, 28, 1))"
   ]
  },
  {
   "cell_type": "markdown",
   "metadata": {
    "colab_type": "text",
    "id": "7EQUWwjCgs3a"
   },
   "source": [
    "# Model 1 - dense, highest symmetry"
   ]
  },
  {
   "cell_type": "code",
   "execution_count": 69,
   "metadata": {
    "colab": {
     "base_uri": "https://localhost:8080/",
     "height": 221
    },
    "colab_type": "code",
    "id": "npi6CTVi6yO3",
    "outputId": "b2a633d7-505c-43c8-c219-1d975352f185"
   },
   "outputs": [
    {
     "name": "stdout",
     "output_type": "stream",
     "text": [
      "_________________________________________________________________\n",
      "Layer (type)                 Output Shape              Param #   \n",
      "=================================================================\n",
      "dense_99 (Dense)             (None, 256)               200960    \n",
      "_________________________________________________________________\n",
      "dense_100 (Dense)            (None, 10)                2570      \n",
      "=================================================================\n",
      "Total params: 203,530\n",
      "Trainable params: 203,530\n",
      "Non-trainable params: 0\n",
      "_________________________________________________________________\n"
     ]
    }
   ],
   "source": [
    "model1 = models.Sequential()\n",
    "model1.add(layers.Dense(256, activation='relu', input_shape=(784,)))\n",
    "model1.add(layers.Dense(10, activation='softmax'))\n",
    "model1.build()\n",
    "\n",
    "model1.compile(optimizer='adam',\n",
    "              loss='sparse_categorical_crossentropy',\n",
    "              metrics=['accuracy'])\n",
    "model1.summary()"
   ]
  },
  {
   "cell_type": "code",
   "execution_count": 70,
   "metadata": {
    "colab": {
     "base_uri": "https://localhost:8080/",
     "height": 357
    },
    "colab_type": "code",
    "id": "HP_oWEuv60c6",
    "outputId": "2607c827-ecad-460f-b9e0-59fb742ec01e"
   },
   "outputs": [
    {
     "name": "stdout",
     "output_type": "stream",
     "text": [
      "Train on 20000 samples, validate on 10000 samples\n",
      "Epoch 1/10\n",
      "20000/20000 [==============================] - 12s 584us/sample - loss: 0.3657 - acc: 0.8948 - val_loss: 0.1979 - val_acc: 0.9432\n",
      "Epoch 2/10\n",
      "20000/20000 [==============================] - 10s 506us/sample - loss: 0.1608 - acc: 0.9541 - val_loss: 0.1504 - val_acc: 0.9528\n",
      "Epoch 3/10\n",
      "20000/20000 [==============================] - 10s 496us/sample - loss: 0.1044 - acc: 0.9706 - val_loss: 0.1249 - val_acc: 0.9605\n",
      "Epoch 4/10\n",
      "20000/20000 [==============================] - 10s 508us/sample - loss: 0.0735 - acc: 0.9794 - val_loss: 0.1206 - val_acc: 0.9626\n",
      "Epoch 5/10\n",
      "20000/20000 [==============================] - 12s 605us/sample - loss: 0.0514 - acc: 0.9871 - val_loss: 0.1090 - val_acc: 0.9684\n",
      "Epoch 6/10\n",
      "20000/20000 [==============================] - 10s 480us/sample - loss: 0.0403 - acc: 0.9890 - val_loss: 0.1047 - val_acc: 0.9678\n",
      "Epoch 7/10\n",
      "20000/20000 [==============================] - 13s 629us/sample - loss: 0.0263 - acc: 0.9939 - val_loss: 0.1106 - val_acc: 0.9670\n",
      "Epoch 8/10\n",
      "20000/20000 [==============================] - 9s 450us/sample - loss: 0.0201 - acc: 0.9954 - val_loss: 0.1030 - val_acc: 0.9720\n",
      "Epoch 9/10\n",
      "20000/20000 [==============================] - 9s 450us/sample - loss: 0.0123 - acc: 0.9981 - val_loss: 0.1045 - val_acc: 0.9704\n",
      "Epoch 10/10\n",
      "20000/20000 [==============================] - 9s 457us/sample - loss: 0.0107 - acc: 0.9980 - val_loss: 0.1261 - val_acc: 0.9634\n"
     ]
    }
   ],
   "source": [
    "history1 = model1.fit(train_images, train_labels, epochs=10, \n",
    "                    validation_data=(test_images, test_labels))"
   ]
  },
  {
   "cell_type": "markdown",
   "metadata": {
    "colab_type": "text",
    "id": "ADVbTTbPhAIq"
   },
   "source": [
    "## Model 2 - dense, medium symmetry"
   ]
  },
  {
   "cell_type": "code",
   "execution_count": 71,
   "metadata": {
    "colab": {
     "base_uri": "https://localhost:8080/",
     "height": 221
    },
    "colab_type": "code",
    "id": "KpRuVCzTg4Q7",
    "outputId": "07cfc13f-65b1-4d6f-9612-6e278c41aade"
   },
   "outputs": [
    {
     "name": "stdout",
     "output_type": "stream",
     "text": [
      "_________________________________________________________________\n",
      "Layer (type)                 Output Shape              Param #   \n",
      "=================================================================\n",
      "dense_101 (Dense)            (None, 96)                75360     \n",
      "_________________________________________________________________\n",
      "dense_102 (Dense)            (None, 96)                9312      \n",
      "_________________________________________________________________\n",
      "dense_103 (Dense)            (None, 10)                970       \n",
      "=================================================================\n",
      "Total params: 85,642\n",
      "Trainable params: 85,642\n",
      "Non-trainable params: 0\n",
      "_________________________________________________________________\n"
     ]
    }
   ],
   "source": [
    "model2 = models.Sequential()\n",
    "model2.add(layers.Dense(96, activation='relu', input_shape=(784,)))\n",
    "model2.add(layers.Dense(96, activation='relu'))\n",
    "model2.add(layers.Dense(10, activation='softmax'))\n",
    "model2.build()\n",
    "model2.compile(optimizer='adam',\n",
    "              loss='sparse_categorical_crossentropy',\n",
    "              metrics=['accuracy'])\n",
    "model2.summary()"
   ]
  },
  {
   "cell_type": "code",
   "execution_count": 72,
   "metadata": {
    "colab": {
     "base_uri": "https://localhost:8080/",
     "height": 357
    },
    "colab_type": "code",
    "id": "2dQTEmSyh3dj",
    "outputId": "28344e7f-598b-41d1-9e84-ac8c46fc5bc0"
   },
   "outputs": [
    {
     "name": "stdout",
     "output_type": "stream",
     "text": [
      "Train on 20000 samples, validate on 10000 samples\n",
      "Epoch 1/10\n",
      "20000/20000 [==============================] - 9s 441us/sample - loss: 0.4058 - acc: 0.8810 - val_loss: 0.2225 - val_acc: 0.9338\n",
      "Epoch 2/10\n",
      "20000/20000 [==============================] - 7s 366us/sample - loss: 0.1804 - acc: 0.9460 - val_loss: 0.1546 - val_acc: 0.9525\n",
      "Epoch 3/10\n",
      "20000/20000 [==============================] - 7s 365us/sample - loss: 0.1259 - acc: 0.9635 - val_loss: 0.1463 - val_acc: 0.9549\n",
      "Epoch 4/10\n",
      "20000/20000 [==============================] - 8s 390us/sample - loss: 0.0939 - acc: 0.9734 - val_loss: 0.1345 - val_acc: 0.9588\n",
      "Epoch 5/10\n",
      "20000/20000 [==============================] - 8s 390us/sample - loss: 0.0688 - acc: 0.9788 - val_loss: 0.1144 - val_acc: 0.9651\n",
      "Epoch 6/10\n",
      "20000/20000 [==============================] - 8s 388us/sample - loss: 0.0548 - acc: 0.9837 - val_loss: 0.1282 - val_acc: 0.9621\n",
      "Epoch 7/10\n",
      "20000/20000 [==============================] - 8s 401us/sample - loss: 0.0430 - acc: 0.9869 - val_loss: 0.1148 - val_acc: 0.9677\n",
      "Epoch 8/10\n",
      "20000/20000 [==============================] - 10s 507us/sample - loss: 0.0352 - acc: 0.9892 - val_loss: 0.1175 - val_acc: 0.9664\n",
      "Epoch 9/10\n",
      "20000/20000 [==============================] - 8s 393us/sample - loss: 0.0235 - acc: 0.9937 - val_loss: 0.1352 - val_acc: 0.9663\n",
      "Epoch 10/10\n",
      "20000/20000 [==============================] - 8s 390us/sample - loss: 0.0259 - acc: 0.9919 - val_loss: 0.1344 - val_acc: 0.9635\n"
     ]
    }
   ],
   "source": [
    "history2 = model2.fit(train_images, train_labels, epochs=10, \n",
    "                    validation_data=(test_images, test_labels))"
   ]
  },
  {
   "cell_type": "markdown",
   "metadata": {
    "colab_type": "text",
    "id": "TDqwM3SjkGJe"
   },
   "source": [
    "# Model 3 - lowest symmetry of dense models"
   ]
  },
  {
   "cell_type": "code",
   "execution_count": 73,
   "metadata": {
    "colab": {
     "base_uri": "https://localhost:8080/",
     "height": 255
    },
    "colab_type": "code",
    "id": "JEDUouI1j2E8",
    "outputId": "e7cdb247-0db4-4d9a-b9fb-36c6189f22bb"
   },
   "outputs": [
    {
     "name": "stdout",
     "output_type": "stream",
     "text": [
      "_________________________________________________________________\n",
      "Layer (type)                 Output Shape              Param #   \n",
      "=================================================================\n",
      "dense_104 (Dense)            (None, 96)                75360     \n",
      "_________________________________________________________________\n",
      "dense_105 (Dense)            (None, 96)                9312      \n",
      "_________________________________________________________________\n",
      "dense_106 (Dense)            (None, 96)                9312      \n",
      "_________________________________________________________________\n",
      "dense_107 (Dense)            (None, 10)                970       \n",
      "=================================================================\n",
      "Total params: 94,954\n",
      "Trainable params: 94,954\n",
      "Non-trainable params: 0\n",
      "_________________________________________________________________\n"
     ]
    }
   ],
   "source": [
    "model3 = models.Sequential()\n",
    "model3.add(Dense(96, activation='relu', input_shape=(784,)))\n",
    "model3.add(Dense(96, activation='relu'))\n",
    "model3.add(Dense(96, activation='relu'))\n",
    "model3.add(Dense(10, activation='softmax'))\n",
    "model3.build()\n",
    "model3.compile(optimizer='adam',\n",
    "              loss='sparse_categorical_crossentropy',\n",
    "              metrics=['accuracy'])\n",
    "model3.summary()"
   ]
  },
  {
   "cell_type": "code",
   "execution_count": 74,
   "metadata": {
    "colab": {
     "base_uri": "https://localhost:8080/"
    },
    "colab_type": "code",
    "id": "3-03wQtwBs0L",
    "outputId": "0dfc293c-12cd-4b46-fed6-a0a8f6be1e6c"
   },
   "outputs": [
    {
     "name": "stdout",
     "output_type": "stream",
     "text": [
      "Train on 20000 samples, validate on 10000 samples\n",
      "Epoch 1/10\n",
      "20000/20000 [==============================] - 10s 522us/sample - loss: 0.3984 - acc: 0.8823 - val_loss: 0.2059 - val_acc: 0.9352\n",
      "Epoch 2/10\n",
      "20000/20000 [==============================] - 9s 429us/sample - loss: 0.1687 - acc: 0.9502 - val_loss: 0.1677 - val_acc: 0.9467\n",
      "Epoch 3/10\n",
      "20000/20000 [==============================] - 9s 443us/sample - loss: 0.1146 - acc: 0.9651 - val_loss: 0.1344 - val_acc: 0.9589\n",
      "Epoch 4/10\n",
      "20000/20000 [==============================] - 8s 407us/sample - loss: 0.0908 - acc: 0.9724 - val_loss: 0.1377 - val_acc: 0.9588\n",
      "Epoch 5/10\n",
      "20000/20000 [==============================] - 8s 417us/sample - loss: 0.0672 - acc: 0.9790 - val_loss: 0.1240 - val_acc: 0.9629\n",
      "Epoch 6/10\n",
      "20000/20000 [==============================] - 8s 408us/sample - loss: 0.0552 - acc: 0.9823 - val_loss: 0.1126 - val_acc: 0.9677\n",
      "Epoch 7/10\n",
      "20000/20000 [==============================] - 8s 413us/sample - loss: 0.0452 - acc: 0.9852 - val_loss: 0.1340 - val_acc: 0.9639\n",
      "Epoch 8/10\n",
      "20000/20000 [==============================] - 9s 470us/sample - loss: 0.0368 - acc: 0.9880 - val_loss: 0.1503 - val_acc: 0.9614\n",
      "Epoch 9/10\n",
      "20000/20000 [==============================] - 15s 765us/sample - loss: 0.0325 - acc: 0.9900 - val_loss: 0.1413 - val_acc: 0.9638\n",
      "Epoch 10/10\n",
      "20000/20000 [==============================] - 8s 417us/sample - loss: 0.0289 - acc: 0.9899 - val_loss: 0.1501 - val_acc: 0.9637\n"
     ]
    }
   ],
   "source": [
    "history3 = model3.fit(train_images, train_labels, epochs=10,\n",
    "                    validation_data=(test_images, test_labels))"
   ]
  },
  {
   "cell_type": "markdown",
   "metadata": {
    "colab_type": "text",
    "id": "xSN_IZnBoDtS"
   },
   "source": [
    "# Model 4 - dense with resnet"
   ]
  },
  {
   "cell_type": "code",
   "execution_count": 75,
   "metadata": {
    "colab": {},
    "colab_type": "code",
    "id": "cEQXPzTRj181"
   },
   "outputs": [],
   "source": [
    "def create_dense_res_net():\n",
    "    \n",
    "    inputs = Input(shape=(784,))\n",
    "    y = Dense(96)(inputs)\n",
    "    y = ReLU()(y)\n",
    "    y_save = y\n",
    "    y = Dense(96)(y)\n",
    "    y = ReLU()(y)\n",
    "    y = Dense(96)(y)\n",
    "\n",
    "    y = Add()([y_save, y])\n",
    "    y = ReLU()(y)\n",
    "    \n",
    "    outputs = Dense(10, activation='softmax')(y)\n",
    "    \n",
    "    model = Model(inputs, outputs)\n",
    "\n",
    "    model.compile(\n",
    "        optimizer='adam',\n",
    "        loss='sparse_categorical_crossentropy',\n",
    "        metrics=['accuracy']\n",
    "    )\n",
    "\n",
    "    return model"
   ]
  },
  {
   "cell_type": "code",
   "execution_count": 76,
   "metadata": {},
   "outputs": [
    {
     "name": "stdout",
     "output_type": "stream",
     "text": [
      "__________________________________________________________________________________________________\n",
      "Layer (type)                    Output Shape         Param #     Connected to                     \n",
      "==================================================================================================\n",
      "input_6 (InputLayer)            (None, 784)          0                                            \n",
      "__________________________________________________________________________________________________\n",
      "dense_108 (Dense)               (None, 96)           75360       input_6[0][0]                    \n",
      "__________________________________________________________________________________________________\n",
      "re_lu_13 (ReLU)                 (None, 96)           0           dense_108[0][0]                  \n",
      "__________________________________________________________________________________________________\n",
      "dense_109 (Dense)               (None, 96)           9312        re_lu_13[0][0]                   \n",
      "__________________________________________________________________________________________________\n",
      "re_lu_14 (ReLU)                 (None, 96)           0           dense_109[0][0]                  \n",
      "__________________________________________________________________________________________________\n",
      "dense_110 (Dense)               (None, 96)           9312        re_lu_14[0][0]                   \n",
      "__________________________________________________________________________________________________\n",
      "add_5 (Add)                     (None, 96)           0           re_lu_13[0][0]                   \n",
      "                                                                 dense_110[0][0]                  \n",
      "__________________________________________________________________________________________________\n",
      "re_lu_15 (ReLU)                 (None, 96)           0           add_5[0][0]                      \n",
      "__________________________________________________________________________________________________\n",
      "dense_111 (Dense)               (None, 10)           970         re_lu_15[0][0]                   \n",
      "==================================================================================================\n",
      "Total params: 94,954\n",
      "Trainable params: 94,954\n",
      "Non-trainable params: 0\n",
      "__________________________________________________________________________________________________\n"
     ]
    }
   ],
   "source": [
    "model4 = create_dense_res_net()\n",
    "model4.summary()"
   ]
  },
  {
   "cell_type": "code",
   "execution_count": 77,
   "metadata": {},
   "outputs": [
    {
     "name": "stdout",
     "output_type": "stream",
     "text": [
      "Train on 20000 samples, validate on 10000 samples\n",
      "Epoch 1/10\n",
      "20000/20000 [==============================] - 20s 1ms/sample - loss: 0.3796 - acc: 0.8870 - val_loss: 0.2044 - val_acc: 0.9341\n",
      "Epoch 2/10\n",
      "20000/20000 [==============================] - 9s 469us/sample - loss: 0.1636 - acc: 0.9513 - val_loss: 0.1433 - val_acc: 0.9568\n",
      "Epoch 3/10\n",
      "20000/20000 [==============================] - 15s 762us/sample - loss: 0.1095 - acc: 0.9665 - val_loss: 0.1307 - val_acc: 0.9577\n",
      "Epoch 4/10\n",
      "20000/20000 [==============================] - 19s 938us/sample - loss: 0.0833 - acc: 0.9751 - val_loss: 0.1418 - val_acc: 0.9580\n",
      "Epoch 5/10\n",
      "20000/20000 [==============================] - 14s 689us/sample - loss: 0.0594 - acc: 0.9814 - val_loss: 0.1210 - val_acc: 0.9661\n",
      "Epoch 6/10\n",
      "20000/20000 [==============================] - 10s 520us/sample - loss: 0.0492 - acc: 0.9836 - val_loss: 0.1156 - val_acc: 0.9650\n",
      "Epoch 7/10\n",
      "20000/20000 [==============================] - 9s 443us/sample - loss: 0.0399 - acc: 0.9872 - val_loss: 0.1312 - val_acc: 0.9641\n",
      "Epoch 8/10\n",
      "20000/20000 [==============================] - 16s 785us/sample - loss: 0.0304 - acc: 0.9899 - val_loss: 0.1129 - val_acc: 0.9698\n",
      "Epoch 9/10\n",
      "20000/20000 [==============================] - 8s 409us/sample - loss: 0.0280 - acc: 0.9912 - val_loss: 0.1331 - val_acc: 0.9662\n",
      "Epoch 10/10\n",
      "20000/20000 [==============================] - 8s 421us/sample - loss: 0.0235 - acc: 0.9926 - val_loss: 0.1400 - val_acc: 0.9671\n"
     ]
    }
   ],
   "source": [
    "history4 = model4.fit(\n",
    "    train_images,\n",
    "    train_labels,\n",
    "    epochs=10,\n",
    "    validation_data=(test_images, test_labels))"
   ]
  },
  {
   "cell_type": "markdown",
   "metadata": {
    "colab_type": "text",
    "id": "hPvXDb7PkQeZ"
   },
   "source": [
    "# Model 5 - convolutional layers, low symmetry"
   ]
  },
  {
   "cell_type": "code",
   "execution_count": 78,
   "metadata": {
    "colab": {},
    "colab_type": "code",
    "id": "0zcuvmrA65PG"
   },
   "outputs": [
    {
     "name": "stdout",
     "output_type": "stream",
     "text": [
      "_________________________________________________________________\n",
      "Layer (type)                 Output Shape              Param #   \n",
      "=================================================================\n",
      "conv2d_8 (Conv2D)            (None, 28, 28, 14)        70        \n",
      "_________________________________________________________________\n",
      "conv2d_9 (Conv2D)            (None, 28, 28, 14)        798       \n",
      "_________________________________________________________________\n",
      "flatten_4 (Flatten)          (None, 10976)             0         \n",
      "_________________________________________________________________\n",
      "dense_112 (Dense)            (None, 10)                109770    \n",
      "_________________________________________________________________\n",
      "dense_113 (Dense)            (None, 10)                110       \n",
      "=================================================================\n",
      "Total params: 110,748\n",
      "Trainable params: 110,748\n",
      "Non-trainable params: 0\n",
      "_________________________________________________________________\n"
     ]
    }
   ],
   "source": [
    "model5 = models.Sequential()\n",
    "model5.add(Conv2D(14, (2, 2), activation='relu', input_shape=(28, 28, 1), strides=1, padding='same'))\n",
    "model5.add(Conv2D(14, (2, 2), activation='relu', strides=1, padding='same'))\n",
    "model5.add(Flatten())\n",
    "model5.add(layers.Dense(10, activation='relu', input_shape=(784,)))\n",
    "model5.add(Dense(10, activation='softmax'))\n",
    "model5.build()\n",
    "\n",
    "model5.compile(optimizer='adam',\n",
    "              loss='sparse_categorical_crossentropy',\n",
    "              metrics=['accuracy'])\n",
    "model5.summary()"
   ]
  },
  {
   "cell_type": "code",
   "execution_count": 79,
   "metadata": {
    "colab": {
     "base_uri": "https://localhost:8080/",
     "height": 358
    },
    "colab_type": "code",
    "id": "QX81GFkJ66Ld",
    "outputId": "b09100a9-a547-47cb-abf9-0a193a91b215"
   },
   "outputs": [
    {
     "name": "stdout",
     "output_type": "stream",
     "text": [
      "Train on 20000 samples, validate on 10000 samples\n",
      "Epoch 1/10\n",
      "20000/20000 [==============================] - 49s 2ms/sample - loss: 0.5125 - acc: 0.8485 - val_loss: 0.2177 - val_acc: 0.9390\n",
      "Epoch 2/10\n",
      "20000/20000 [==============================] - 51s 3ms/sample - loss: 0.1778 - acc: 0.9499 - val_loss: 0.1477 - val_acc: 0.9588\n",
      "Epoch 3/10\n",
      "20000/20000 [==============================] - 41s 2ms/sample - loss: 0.1169 - acc: 0.9656 - val_loss: 0.1130 - val_acc: 0.9688\n",
      "Epoch 4/10\n",
      "20000/20000 [==============================] - 40s 2ms/sample - loss: 0.0836 - acc: 0.9755 - val_loss: 0.1192 - val_acc: 0.9662\n",
      "Epoch 5/10\n",
      "20000/20000 [==============================] - 41s 2ms/sample - loss: 0.0645 - acc: 0.9801 - val_loss: 0.1152 - val_acc: 0.9671\n",
      "Epoch 6/10\n",
      "20000/20000 [==============================] - 40s 2ms/sample - loss: 0.0519 - acc: 0.9836 - val_loss: 0.1302 - val_acc: 0.9644\n",
      "Epoch 7/10\n",
      "20000/20000 [==============================] - 47s 2ms/sample - loss: 0.0410 - acc: 0.9877 - val_loss: 0.1079 - val_acc: 0.9712\n",
      "Epoch 8/10\n",
      "20000/20000 [==============================] - 41s 2ms/sample - loss: 0.0332 - acc: 0.9897 - val_loss: 0.1107 - val_acc: 0.9696\n",
      "Epoch 9/10\n",
      "20000/20000 [==============================] - 40s 2ms/sample - loss: 0.0266 - acc: 0.9922 - val_loss: 0.1206 - val_acc: 0.9705\n",
      "Epoch 10/10\n",
      "20000/20000 [==============================] - 39s 2ms/sample - loss: 0.0234 - acc: 0.9930 - val_loss: 0.1238 - val_acc: 0.9698\n"
     ]
    }
   ],
   "source": [
    "history5 = model5.fit(conv_train_images, train_labels, epochs=10,\n",
    "                    validation_data=(conv_test_images, test_labels))"
   ]
  },
  {
   "cell_type": "markdown",
   "metadata": {
    "colab_type": "text",
    "id": "7-B0dxH5kYTa"
   },
   "source": [
    "# Model 6 - resnet with convolutional layers, lowest symmetry"
   ]
  },
  {
   "cell_type": "code",
   "execution_count": 80,
   "metadata": {
    "colab": {},
    "colab_type": "code",
    "id": "RSbUOzgw6Bvs"
   },
   "outputs": [],
   "source": [
    "\n",
    "def create_conv_res_net():\n",
    "    \n",
    "    inputs = Input(shape=(28, 28, 1))\n",
    "    filters = 14\n",
    "    \n",
    "    y = Conv2D(kernel_size=3,\n",
    "               strides= 1,\n",
    "               filters=filters,\n",
    "               padding=\"same\")(inputs)\n",
    "    y = ReLU()(y)\n",
    "    y = Conv2D(kernel_size=3,\n",
    "               strides=1,\n",
    "               filters=filters,\n",
    "               padding=\"same\")(y)\n",
    "\n",
    "    y = Add()([inputs, y])\n",
    "    y = ReLU()(y)\n",
    "    \n",
    "    y = Flatten()(y)\n",
    "    outputs = Dense(10, activation='softmax')(y)\n",
    "    \n",
    "    model = Model(inputs, outputs)\n",
    "\n",
    "    model.compile(\n",
    "        optimizer='adam',\n",
    "        loss='sparse_categorical_crossentropy',\n",
    "        metrics=['accuracy']\n",
    "    )\n",
    "\n",
    "    return model\n",
    "\n"
   ]
  },
  {
   "cell_type": "code",
   "execution_count": 81,
   "metadata": {
    "colab": {
     "base_uri": "https://localhost:8080/",
     "height": 442
    },
    "colab_type": "code",
    "id": "EcobZLhY7f5-",
    "outputId": "0b20dec6-9781-4e0a-fcfd-0a3516103f1e"
   },
   "outputs": [
    {
     "name": "stdout",
     "output_type": "stream",
     "text": [
      "__________________________________________________________________________________________________\n",
      "Layer (type)                    Output Shape         Param #     Connected to                     \n",
      "==================================================================================================\n",
      "input_7 (InputLayer)            (None, 28, 28, 1)    0                                            \n",
      "__________________________________________________________________________________________________\n",
      "conv2d_10 (Conv2D)              (None, 28, 28, 14)   140         input_7[0][0]                    \n",
      "__________________________________________________________________________________________________\n",
      "re_lu_16 (ReLU)                 (None, 28, 28, 14)   0           conv2d_10[0][0]                  \n",
      "__________________________________________________________________________________________________\n",
      "conv2d_11 (Conv2D)              (None, 28, 28, 14)   1778        re_lu_16[0][0]                   \n",
      "__________________________________________________________________________________________________\n",
      "add_6 (Add)                     (None, 28, 28, 14)   0           input_7[0][0]                    \n",
      "                                                                 conv2d_11[0][0]                  \n",
      "__________________________________________________________________________________________________\n",
      "re_lu_17 (ReLU)                 (None, 28, 28, 14)   0           add_6[0][0]                      \n",
      "__________________________________________________________________________________________________\n",
      "flatten_5 (Flatten)             (None, 10976)        0           re_lu_17[0][0]                   \n",
      "__________________________________________________________________________________________________\n",
      "dense_114 (Dense)               (None, 10)           109770      flatten_5[0][0]                  \n",
      "==================================================================================================\n",
      "Total params: 111,688\n",
      "Trainable params: 111,688\n",
      "Non-trainable params: 0\n",
      "__________________________________________________________________________________________________\n"
     ]
    }
   ],
   "source": [
    "model6 = create_conv_res_net()\n",
    "model6.summary()"
   ]
  },
  {
   "cell_type": "code",
   "execution_count": 82,
   "metadata": {
    "colab": {
     "base_uri": "https://localhost:8080/",
     "height": 102
    },
    "colab_type": "code",
    "id": "IW_TKu1L7kVh",
    "outputId": "510a34c3-3e75-44b2-9516-ec8b40f8c6bf",
    "scrolled": true
   },
   "outputs": [
    {
     "name": "stdout",
     "output_type": "stream",
     "text": [
      "Train on 20000 samples, validate on 10000 samples\n",
      "Epoch 1/10\n",
      "20000/20000 [==============================] - 34s 2ms/sample - loss: 0.3435 - acc: 0.8978 - val_loss: 0.1541 - val_acc: 0.9562\n",
      "Epoch 2/10\n",
      "20000/20000 [==============================] - 33s 2ms/sample - loss: 0.1207 - acc: 0.9639 - val_loss: 0.0973 - val_acc: 0.9711\n",
      "Epoch 3/10\n",
      "20000/20000 [==============================] - 32s 2ms/sample - loss: 0.0762 - acc: 0.9767 - val_loss: 0.0809 - val_acc: 0.9747\n",
      "Epoch 4/10\n",
      "20000/20000 [==============================] - 33s 2ms/sample - loss: 0.0516 - acc: 0.9839 - val_loss: 0.0864 - val_acc: 0.9755\n",
      "Epoch 5/10\n",
      "20000/20000 [==============================] - 33s 2ms/sample - loss: 0.0382 - acc: 0.9875 - val_loss: 0.0811 - val_acc: 0.9770\n",
      "Epoch 6/10\n",
      "20000/20000 [==============================] - 32s 2ms/sample - loss: 0.0267 - acc: 0.9919 - val_loss: 0.0808 - val_acc: 0.9779\n",
      "Epoch 7/10\n",
      "20000/20000 [==============================] - 33s 2ms/sample - loss: 0.0205 - acc: 0.9934 - val_loss: 0.0870 - val_acc: 0.9776\n",
      "Epoch 8/10\n",
      "20000/20000 [==============================] - 36s 2ms/sample - loss: 0.0173 - acc: 0.9946 - val_loss: 0.0920 - val_acc: 0.9756\n",
      "Epoch 9/10\n",
      "20000/20000 [==============================] - 34s 2ms/sample - loss: 0.0148 - acc: 0.9953 - val_loss: 0.0941 - val_acc: 0.9763\n",
      "Epoch 10/10\n",
      "20000/20000 [==============================] - 33s 2ms/sample - loss: 0.0101 - acc: 0.9973 - val_loss: 0.0955 - val_acc: 0.9776\n"
     ]
    }
   ],
   "source": [
    "history6 = model6.fit(\n",
    "    conv_train_images,\n",
    "    train_labels,\n",
    "    epochs=10,\n",
    "    validation_data=(conv_test_images, test_labels))"
   ]
  },
  {
   "cell_type": "code",
   "execution_count": 83,
   "metadata": {},
   "outputs": [],
   "source": [
    "import pickle\n",
    "histories = histories = [history1, history2, history3, history4, history5, history6]\n",
    "data = [h.history for h in histories]\n",
    "\n",
    "with open('results4.pickle', 'wb') as f:\n",
    "    pickle.dump(data, f, -1)"
   ]
  },
  {
   "cell_type": "code",
   "execution_count": null,
   "metadata": {},
   "outputs": [],
   "source": []
  }
 ],
 "metadata": {
  "colab": {
   "collapsed_sections": [],
   "name": "Symmetry.ipynb",
   "provenance": []
  },
  "kernelspec": {
   "display_name": "Python 3",
   "language": "python",
   "name": "python3"
  },
  "language_info": {
   "codemirror_mode": {
    "name": "ipython",
    "version": 3
   },
   "file_extension": ".py",
   "mimetype": "text/x-python",
   "name": "python",
   "nbconvert_exporter": "python",
   "pygments_lexer": "ipython3",
   "version": "3.7.4"
  }
 },
 "nbformat": 4,
 "nbformat_minor": 1
}
