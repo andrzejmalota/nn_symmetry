{
 "cells": [
  {
   "cell_type": "code",
   "execution_count": 3,
   "metadata": {
    "colab": {},
    "colab_type": "code",
    "id": "G33Fzg6V6sI5"
   },
   "outputs": [],
   "source": [
    "import tensorflow as tf\n",
    "import numpy as np\n",
    "from tensorflow.keras import datasets, layers, models\n",
    "from tensorflow.keras.layers import Dense, Conv2D, Flatten, Input, ReLU, Add\n",
    "from tensorflow.keras.models import Model\n",
    "\n",
    "import matplotlib.pyplot as plt\n",
    "import pickle"
   ]
  },
  {
   "cell_type": "code",
   "execution_count": 19,
   "metadata": {
    "colab": {},
    "colab_type": "code",
    "id": "kqLmaFB36vMZ"
   },
   "outputs": [],
   "source": [
    "NUM_IMAGES = 20000\n",
    "\n",
    "(train_images, train_labels), (test_images, test_labels) = datasets.mnist.load_data()\n",
    "train_images, test_images = train_images / 255.0, test_images / 255.0\n",
    "\n",
    "order = np.random.permutation(len(train_images))\n",
    "train_images = train_images[order]\n",
    "train_labels = train_labels[order]\n",
    "\n",
    "train_images = train_images[:NUM_IMAGES]\n",
    "train_labels = train_labels[:NUM_IMAGES]\n",
    "train_images = np.reshape(train_images, (np.shape(train_images)[0], -1))\n",
    "conv_train_images = np.reshape(train_images, (np.shape(train_images)[0], 28, 28, 1))\n",
    "\n",
    "test_images = np.reshape(test_images, (np.shape(test_images)[0], -1))\n",
    "conv_test_images = np.reshape(test_images, (np.shape(test_images)[0], 28, 28, 1))"
   ]
  },
  {
   "cell_type": "markdown",
   "metadata": {
    "colab_type": "text",
    "id": "7EQUWwjCgs3a"
   },
   "source": [
    "# Model 1 - dense, highest symmetry"
   ]
  },
  {
   "cell_type": "code",
   "execution_count": 25,
   "metadata": {
    "colab": {
     "base_uri": "https://localhost:8080/",
     "height": 221
    },
    "colab_type": "code",
    "id": "npi6CTVi6yO3",
    "outputId": "b2a633d7-505c-43c8-c219-1d975352f185"
   },
   "outputs": [
    {
     "name": "stdout",
     "output_type": "stream",
     "text": [
      "_________________________________________________________________\n",
      "Layer (type)                 Output Shape              Param #   \n",
      "=================================================================\n",
      "dense_17 (Dense)             (None, 120)               94200     \n",
      "_________________________________________________________________\n",
      "dense_18 (Dense)             (None, 10)                1210      \n",
      "=================================================================\n",
      "Total params: 95,410\n",
      "Trainable params: 95,410\n",
      "Non-trainable params: 0\n",
      "_________________________________________________________________\n"
     ]
    }
   ],
   "source": [
    "model1 = models.Sequential()\n",
    "model1.add(layers.Dense(120, activation='relu', input_shape=(784,)))\n",
    "model1.add(layers.Dense(10, activation='softmax'))\n",
    "model1.build()\n",
    "\n",
    "model1.compile(optimizer='adam',\n",
    "              loss='sparse_categorical_crossentropy',\n",
    "              metrics=['accuracy'])\n",
    "model1.summary()"
   ]
  },
  {
   "cell_type": "code",
   "execution_count": 26,
   "metadata": {
    "colab": {
     "base_uri": "https://localhost:8080/",
     "height": 357
    },
    "colab_type": "code",
    "id": "HP_oWEuv60c6",
    "outputId": "2607c827-ecad-460f-b9e0-59fb742ec01e"
   },
   "outputs": [
    {
     "name": "stdout",
     "output_type": "stream",
     "text": [
      "Train on 20000 samples, validate on 10000 samples\n",
      "Epoch 1/10\n",
      "20000/20000 [==============================] - 3s 168us/sample - loss: 0.4192 - acc: 0.8838 - val_loss: 0.2279 - val_acc: 0.9323\n",
      "Epoch 2/10\n",
      "20000/20000 [==============================] - 3s 162us/sample - loss: 0.2030 - acc: 0.9423 - val_loss: 0.1832 - val_acc: 0.9442\n",
      "Epoch 3/10\n",
      "20000/20000 [==============================] - 3s 162us/sample - loss: 0.1433 - acc: 0.9577 - val_loss: 0.1618 - val_acc: 0.9491\n",
      "Epoch 4/10\n",
      "20000/20000 [==============================] - 3s 157us/sample - loss: 0.1097 - acc: 0.9682 - val_loss: 0.1452 - val_acc: 0.9557\n",
      "Epoch 5/10\n",
      "20000/20000 [==============================] - 3s 157us/sample - loss: 0.0823 - acc: 0.9762 - val_loss: 0.1317 - val_acc: 0.9591\n",
      "Epoch 6/10\n",
      "20000/20000 [==============================] - 3s 171us/sample - loss: 0.0633 - acc: 0.9824 - val_loss: 0.1156 - val_acc: 0.9648\n",
      "Epoch 7/10\n",
      "20000/20000 [==============================] - 3s 173us/sample - loss: 0.0506 - acc: 0.9862 - val_loss: 0.1191 - val_acc: 0.9627\n",
      "Epoch 8/10\n",
      "20000/20000 [==============================] - 4s 183us/sample - loss: 0.0384 - acc: 0.9901 - val_loss: 0.1123 - val_acc: 0.9647\n",
      "Epoch 9/10\n",
      "20000/20000 [==============================] - 4s 178us/sample - loss: 0.0309 - acc: 0.9929 - val_loss: 0.1231 - val_acc: 0.9645\n",
      "Epoch 10/10\n",
      "20000/20000 [==============================] - 3s 167us/sample - loss: 0.0238 - acc: 0.9944 - val_loss: 0.1155 - val_acc: 0.9665\n"
     ]
    }
   ],
   "source": [
    "history1 = model1.fit(train_images, train_labels, epochs=10, \n",
    "                    validation_data=(test_images, test_labels))"
   ]
  },
  {
   "cell_type": "code",
   "execution_count": 30,
   "metadata": {},
   "outputs": [],
   "source": [
    "with open('results_dense0.pickle', 'wb') as f:\n",
    "    pickle.dump(history1.history, f, -1)"
   ]
  },
  {
   "cell_type": "markdown",
   "metadata": {
    "colab_type": "text",
    "id": "ADVbTTbPhAIq"
   },
   "source": [
    "## Model 2 - dense, medium symmetry"
   ]
  },
  {
   "cell_type": "code",
   "execution_count": 71,
   "metadata": {
    "colab": {
     "base_uri": "https://localhost:8080/",
     "height": 221
    },
    "colab_type": "code",
    "id": "KpRuVCzTg4Q7",
    "outputId": "07cfc13f-65b1-4d6f-9612-6e278c41aade"
   },
   "outputs": [
    {
     "name": "stdout",
     "output_type": "stream",
     "text": [
      "_________________________________________________________________\n",
      "Layer (type)                 Output Shape              Param #   \n",
      "=================================================================\n",
      "dense_101 (Dense)            (None, 96)                75360     \n",
      "_________________________________________________________________\n",
      "dense_102 (Dense)            (None, 96)                9312      \n",
      "_________________________________________________________________\n",
      "dense_103 (Dense)            (None, 10)                970       \n",
      "=================================================================\n",
      "Total params: 85,642\n",
      "Trainable params: 85,642\n",
      "Non-trainable params: 0\n",
      "_________________________________________________________________\n"
     ]
    }
   ],
   "source": [
    "model2 = models.Sequential()\n",
    "model2.add(layers.Dense(96, activation='relu', input_shape=(784,)))\n",
    "model2.add(layers.Dense(96, activation='relu'))\n",
    "model2.add(layers.Dense(10, activation='softmax'))\n",
    "model2.build()\n",
    "model2.compile(optimizer='adam',\n",
    "              loss='sparse_categorical_crossentropy',\n",
    "              metrics=['accuracy'])\n",
    "model2.summary()"
   ]
  },
  {
   "cell_type": "code",
   "execution_count": 72,
   "metadata": {
    "colab": {
     "base_uri": "https://localhost:8080/",
     "height": 357
    },
    "colab_type": "code",
    "id": "2dQTEmSyh3dj",
    "outputId": "28344e7f-598b-41d1-9e84-ac8c46fc5bc0"
   },
   "outputs": [
    {
     "name": "stdout",
     "output_type": "stream",
     "text": [
      "Train on 20000 samples, validate on 10000 samples\n",
      "Epoch 1/10\n",
      "20000/20000 [==============================] - 9s 441us/sample - loss: 0.4058 - acc: 0.8810 - val_loss: 0.2225 - val_acc: 0.9338\n",
      "Epoch 2/10\n",
      "20000/20000 [==============================] - 7s 366us/sample - loss: 0.1804 - acc: 0.9460 - val_loss: 0.1546 - val_acc: 0.9525\n",
      "Epoch 3/10\n",
      "20000/20000 [==============================] - 7s 365us/sample - loss: 0.1259 - acc: 0.9635 - val_loss: 0.1463 - val_acc: 0.9549\n",
      "Epoch 4/10\n",
      "20000/20000 [==============================] - 8s 390us/sample - loss: 0.0939 - acc: 0.9734 - val_loss: 0.1345 - val_acc: 0.9588\n",
      "Epoch 5/10\n",
      "20000/20000 [==============================] - 8s 390us/sample - loss: 0.0688 - acc: 0.9788 - val_loss: 0.1144 - val_acc: 0.9651\n",
      "Epoch 6/10\n",
      "20000/20000 [==============================] - 8s 388us/sample - loss: 0.0548 - acc: 0.9837 - val_loss: 0.1282 - val_acc: 0.9621\n",
      "Epoch 7/10\n",
      "20000/20000 [==============================] - 8s 401us/sample - loss: 0.0430 - acc: 0.9869 - val_loss: 0.1148 - val_acc: 0.9677\n",
      "Epoch 8/10\n",
      "20000/20000 [==============================] - 10s 507us/sample - loss: 0.0352 - acc: 0.9892 - val_loss: 0.1175 - val_acc: 0.9664\n",
      "Epoch 9/10\n",
      "20000/20000 [==============================] - 8s 393us/sample - loss: 0.0235 - acc: 0.9937 - val_loss: 0.1352 - val_acc: 0.9663\n",
      "Epoch 10/10\n",
      "20000/20000 [==============================] - 8s 390us/sample - loss: 0.0259 - acc: 0.9919 - val_loss: 0.1344 - val_acc: 0.9635\n"
     ]
    }
   ],
   "source": [
    "history2 = model2.fit(train_images, train_labels, epochs=10, \n",
    "                    validation_data=(test_images, test_labels))"
   ]
  },
  {
   "cell_type": "markdown",
   "metadata": {
    "colab_type": "text",
    "id": "TDqwM3SjkGJe"
   },
   "source": [
    "# Model 3 - lowest symmetry of dense models"
   ]
  },
  {
   "cell_type": "code",
   "execution_count": 28,
   "metadata": {
    "colab": {
     "base_uri": "https://localhost:8080/",
     "height": 255
    },
    "colab_type": "code",
    "id": "JEDUouI1j2E8",
    "outputId": "e7cdb247-0db4-4d9a-b9fb-36c6189f22bb"
   },
   "outputs": [
    {
     "name": "stdout",
     "output_type": "stream",
     "text": [
      "_________________________________________________________________\n",
      "Layer (type)                 Output Shape              Param #   \n",
      "=================================================================\n",
      "dense_19 (Dense)             (None, 90)                70650     \n",
      "_________________________________________________________________\n",
      "dense_20 (Dense)             (None, 90)                8190      \n",
      "_________________________________________________________________\n",
      "dense_21 (Dense)             (None, 90)                8190      \n",
      "_________________________________________________________________\n",
      "dense_22 (Dense)             (None, 10)                910       \n",
      "=================================================================\n",
      "Total params: 87,940\n",
      "Trainable params: 87,940\n",
      "Non-trainable params: 0\n",
      "_________________________________________________________________\n"
     ]
    }
   ],
   "source": [
    "model3 = models.Sequential()\n",
    "model3.add(Dense(90, activation='relu', input_shape=(784,)))\n",
    "model3.add(Dense(90, activation='relu'))\n",
    "model3.add(Dense(90, activation='relu'))\n",
    "model3.add(Dense(10, activation='softmax'))\n",
    "model3.build()\n",
    "model3.compile(optimizer='adam',\n",
    "              loss='sparse_categorical_crossentropy',\n",
    "              metrics=['accuracy'])\n",
    "model3.summary()"
   ]
  },
  {
   "cell_type": "code",
   "execution_count": 29,
   "metadata": {
    "colab": {
     "base_uri": "https://localhost:8080/"
    },
    "colab_type": "code",
    "id": "3-03wQtwBs0L",
    "outputId": "0dfc293c-12cd-4b46-fed6-a0a8f6be1e6c"
   },
   "outputs": [
    {
     "name": "stdout",
     "output_type": "stream",
     "text": [
      "Train on 20000 samples, validate on 10000 samples\n",
      "Epoch 1/10\n",
      "20000/20000 [==============================] - 3s 163us/sample - loss: 0.4108 - acc: 0.8803 - val_loss: 0.2075 - val_acc: 0.9395\n",
      "Epoch 2/10\n",
      "20000/20000 [==============================] - 3s 154us/sample - loss: 0.1709 - acc: 0.9492 - val_loss: 0.1642 - val_acc: 0.9471\n",
      "Epoch 3/10\n",
      "20000/20000 [==============================] - 3s 167us/sample - loss: 0.1147 - acc: 0.9639 - val_loss: 0.1647 - val_acc: 0.9503\n",
      "Epoch 4/10\n",
      "20000/20000 [==============================] - 3s 170us/sample - loss: 0.0871 - acc: 0.9728 - val_loss: 0.1305 - val_acc: 0.9601\n",
      "Epoch 5/10\n",
      "20000/20000 [==============================] - 3s 168us/sample - loss: 0.0673 - acc: 0.9777 - val_loss: 0.1375 - val_acc: 0.9582\n",
      "Epoch 6/10\n",
      "20000/20000 [==============================] - 4s 190us/sample - loss: 0.0503 - acc: 0.9830 - val_loss: 0.1253 - val_acc: 0.9664\n",
      "Epoch 7/10\n",
      "20000/20000 [==============================] - 4s 184us/sample - loss: 0.0415 - acc: 0.9867 - val_loss: 0.1509 - val_acc: 0.9574\n",
      "Epoch 8/10\n",
      "20000/20000 [==============================] - 3s 174us/sample - loss: 0.0405 - acc: 0.9875 - val_loss: 0.1429 - val_acc: 0.9637\n",
      "Epoch 9/10\n",
      "20000/20000 [==============================] - 4s 176us/sample - loss: 0.0303 - acc: 0.9898 - val_loss: 0.1359 - val_acc: 0.9675\n",
      "Epoch 10/10\n",
      "20000/20000 [==============================] - 4s 175us/sample - loss: 0.0259 - acc: 0.9913 - val_loss: 0.1796 - val_acc: 0.9564\n"
     ]
    }
   ],
   "source": [
    "history3 = model3.fit(train_images, train_labels, epochs=10,\n",
    "                    validation_data=(test_images, test_labels))"
   ]
  },
  {
   "cell_type": "markdown",
   "metadata": {
    "colab_type": "text",
    "id": "xSN_IZnBoDtS"
   },
   "source": [
    "# Model 4 - dense with resnet"
   ]
  },
  {
   "cell_type": "code",
   "execution_count": 75,
   "metadata": {
    "colab": {},
    "colab_type": "code",
    "id": "cEQXPzTRj181"
   },
   "outputs": [],
   "source": [
    "def create_dense_res_net():\n",
    "    \n",
    "    inputs = Input(shape=(784,))\n",
    "    y = Dense(96)(inputs)\n",
    "    y = ReLU()(y)\n",
    "    y_save = y\n",
    "    y = Dense(96)(y)\n",
    "    y = ReLU()(y)\n",
    "    y = Dense(96)(y)\n",
    "\n",
    "    y = Add()([y_save, y])\n",
    "    y = ReLU()(y)\n",
    "    \n",
    "    outputs = Dense(10, activation='softmax')(y)\n",
    "    \n",
    "    model = Model(inputs, outputs)\n",
    "\n",
    "    model.compile(\n",
    "        optimizer='adam',\n",
    "        loss='sparse_categorical_crossentropy',\n",
    "        metrics=['accuracy']\n",
    "    )\n",
    "\n",
    "    return model"
   ]
  },
  {
   "cell_type": "code",
   "execution_count": 76,
   "metadata": {},
   "outputs": [
    {
     "name": "stdout",
     "output_type": "stream",
     "text": [
      "__________________________________________________________________________________________________\n",
      "Layer (type)                    Output Shape         Param #     Connected to                     \n",
      "==================================================================================================\n",
      "input_6 (InputLayer)            (None, 784)          0                                            \n",
      "__________________________________________________________________________________________________\n",
      "dense_108 (Dense)               (None, 96)           75360       input_6[0][0]                    \n",
      "__________________________________________________________________________________________________\n",
      "re_lu_13 (ReLU)                 (None, 96)           0           dense_108[0][0]                  \n",
      "__________________________________________________________________________________________________\n",
      "dense_109 (Dense)               (None, 96)           9312        re_lu_13[0][0]                   \n",
      "__________________________________________________________________________________________________\n",
      "re_lu_14 (ReLU)                 (None, 96)           0           dense_109[0][0]                  \n",
      "__________________________________________________________________________________________________\n",
      "dense_110 (Dense)               (None, 96)           9312        re_lu_14[0][0]                   \n",
      "__________________________________________________________________________________________________\n",
      "add_5 (Add)                     (None, 96)           0           re_lu_13[0][0]                   \n",
      "                                                                 dense_110[0][0]                  \n",
      "__________________________________________________________________________________________________\n",
      "re_lu_15 (ReLU)                 (None, 96)           0           add_5[0][0]                      \n",
      "__________________________________________________________________________________________________\n",
      "dense_111 (Dense)               (None, 10)           970         re_lu_15[0][0]                   \n",
      "==================================================================================================\n",
      "Total params: 94,954\n",
      "Trainable params: 94,954\n",
      "Non-trainable params: 0\n",
      "__________________________________________________________________________________________________\n"
     ]
    }
   ],
   "source": [
    "model4 = create_dense_res_net()\n",
    "model4.summary()"
   ]
  },
  {
   "cell_type": "code",
   "execution_count": 77,
   "metadata": {},
   "outputs": [
    {
     "name": "stdout",
     "output_type": "stream",
     "text": [
      "Train on 20000 samples, validate on 10000 samples\n",
      "Epoch 1/10\n",
      "20000/20000 [==============================] - 20s 1ms/sample - loss: 0.3796 - acc: 0.8870 - val_loss: 0.2044 - val_acc: 0.9341\n",
      "Epoch 2/10\n",
      "20000/20000 [==============================] - 9s 469us/sample - loss: 0.1636 - acc: 0.9513 - val_loss: 0.1433 - val_acc: 0.9568\n",
      "Epoch 3/10\n",
      "20000/20000 [==============================] - 15s 762us/sample - loss: 0.1095 - acc: 0.9665 - val_loss: 0.1307 - val_acc: 0.9577\n",
      "Epoch 4/10\n",
      "20000/20000 [==============================] - 19s 938us/sample - loss: 0.0833 - acc: 0.9751 - val_loss: 0.1418 - val_acc: 0.9580\n",
      "Epoch 5/10\n",
      "20000/20000 [==============================] - 14s 689us/sample - loss: 0.0594 - acc: 0.9814 - val_loss: 0.1210 - val_acc: 0.9661\n",
      "Epoch 6/10\n",
      "20000/20000 [==============================] - 10s 520us/sample - loss: 0.0492 - acc: 0.9836 - val_loss: 0.1156 - val_acc: 0.9650\n",
      "Epoch 7/10\n",
      "20000/20000 [==============================] - 9s 443us/sample - loss: 0.0399 - acc: 0.9872 - val_loss: 0.1312 - val_acc: 0.9641\n",
      "Epoch 8/10\n",
      "20000/20000 [==============================] - 16s 785us/sample - loss: 0.0304 - acc: 0.9899 - val_loss: 0.1129 - val_acc: 0.9698\n",
      "Epoch 9/10\n",
      "20000/20000 [==============================] - 8s 409us/sample - loss: 0.0280 - acc: 0.9912 - val_loss: 0.1331 - val_acc: 0.9662\n",
      "Epoch 10/10\n",
      "20000/20000 [==============================] - 8s 421us/sample - loss: 0.0235 - acc: 0.9926 - val_loss: 0.1400 - val_acc: 0.9671\n"
     ]
    }
   ],
   "source": [
    "history4 = model4.fit(\n",
    "    train_images,\n",
    "    train_labels,\n",
    "    epochs=10,\n",
    "    validation_data=(test_images, test_labels))"
   ]
  },
  {
   "cell_type": "markdown",
   "metadata": {
    "colab_type": "text",
    "id": "hPvXDb7PkQeZ"
   },
   "source": [
    "# Model 5 - convolutional layers, low symmetry"
   ]
  },
  {
   "cell_type": "code",
   "execution_count": 78,
   "metadata": {
    "colab": {},
    "colab_type": "code",
    "id": "0zcuvmrA65PG"
   },
   "outputs": [
    {
     "name": "stdout",
     "output_type": "stream",
     "text": [
      "_________________________________________________________________\n",
      "Layer (type)                 Output Shape              Param #   \n",
      "=================================================================\n",
      "conv2d_8 (Conv2D)            (None, 28, 28, 14)        70        \n",
      "_________________________________________________________________\n",
      "conv2d_9 (Conv2D)            (None, 28, 28, 14)        798       \n",
      "_________________________________________________________________\n",
      "flatten_4 (Flatten)          (None, 10976)             0         \n",
      "_________________________________________________________________\n",
      "dense_112 (Dense)            (None, 10)                109770    \n",
      "_________________________________________________________________\n",
      "dense_113 (Dense)            (None, 10)                110       \n",
      "=================================================================\n",
      "Total params: 110,748\n",
      "Trainable params: 110,748\n",
      "Non-trainable params: 0\n",
      "_________________________________________________________________\n"
     ]
    }
   ],
   "source": [
    "model5 = models.Sequential()\n",
    "model5.add(Conv2D(14, (2, 2), activation='relu', input_shape=(28, 28, 1), strides=1, padding='same'))\n",
    "model5.add(Conv2D(14, (2, 2), activation='relu', strides=1, padding='same'))\n",
    "model5.add(Flatten())\n",
    "model5.add(layers.Dense(10, activation='relu', input_shape=(784,)))\n",
    "model5.add(Dense(10, activation='softmax'))\n",
    "model5.build()\n",
    "\n",
    "model5.compile(optimizer='adam',\n",
    "              loss='sparse_categorical_crossentropy',\n",
    "              metrics=['accuracy'])\n",
    "model5.summary()"
   ]
  },
  {
   "cell_type": "code",
   "execution_count": 79,
   "metadata": {
    "colab": {
     "base_uri": "https://localhost:8080/",
     "height": 358
    },
    "colab_type": "code",
    "id": "QX81GFkJ66Ld",
    "outputId": "b09100a9-a547-47cb-abf9-0a193a91b215"
   },
   "outputs": [
    {
     "name": "stdout",
     "output_type": "stream",
     "text": [
      "Train on 20000 samples, validate on 10000 samples\n",
      "Epoch 1/10\n",
      "20000/20000 [==============================] - 49s 2ms/sample - loss: 0.5125 - acc: 0.8485 - val_loss: 0.2177 - val_acc: 0.9390\n",
      "Epoch 2/10\n",
      "20000/20000 [==============================] - 51s 3ms/sample - loss: 0.1778 - acc: 0.9499 - val_loss: 0.1477 - val_acc: 0.9588\n",
      "Epoch 3/10\n",
      "20000/20000 [==============================] - 41s 2ms/sample - loss: 0.1169 - acc: 0.9656 - val_loss: 0.1130 - val_acc: 0.9688\n",
      "Epoch 4/10\n",
      "20000/20000 [==============================] - 40s 2ms/sample - loss: 0.0836 - acc: 0.9755 - val_loss: 0.1192 - val_acc: 0.9662\n",
      "Epoch 5/10\n",
      "20000/20000 [==============================] - 41s 2ms/sample - loss: 0.0645 - acc: 0.9801 - val_loss: 0.1152 - val_acc: 0.9671\n",
      "Epoch 6/10\n",
      "20000/20000 [==============================] - 40s 2ms/sample - loss: 0.0519 - acc: 0.9836 - val_loss: 0.1302 - val_acc: 0.9644\n",
      "Epoch 7/10\n",
      "20000/20000 [==============================] - 47s 2ms/sample - loss: 0.0410 - acc: 0.9877 - val_loss: 0.1079 - val_acc: 0.9712\n",
      "Epoch 8/10\n",
      "20000/20000 [==============================] - 41s 2ms/sample - loss: 0.0332 - acc: 0.9897 - val_loss: 0.1107 - val_acc: 0.9696\n",
      "Epoch 9/10\n",
      "20000/20000 [==============================] - 40s 2ms/sample - loss: 0.0266 - acc: 0.9922 - val_loss: 0.1206 - val_acc: 0.9705\n",
      "Epoch 10/10\n",
      "20000/20000 [==============================] - 39s 2ms/sample - loss: 0.0234 - acc: 0.9930 - val_loss: 0.1238 - val_acc: 0.9698\n"
     ]
    }
   ],
   "source": [
    "history5 = model5.fit(conv_train_images, train_labels, epochs=10,\n",
    "                    validation_data=(conv_test_images, test_labels))"
   ]
  },
  {
   "cell_type": "markdown",
   "metadata": {
    "colab_type": "text",
    "id": "7-B0dxH5kYTa"
   },
   "source": [
    "# Model 6 - resnet with convolutional layers, lowest symmetry"
   ]
  },
  {
   "cell_type": "code",
   "execution_count": 80,
   "metadata": {
    "colab": {},
    "colab_type": "code",
    "id": "RSbUOzgw6Bvs"
   },
   "outputs": [],
   "source": [
    "\n",
    "def create_conv_res_net():\n",
    "    \n",
    "    inputs = Input(shape=(28, 28, 1))\n",
    "    filters = 14\n",
    "    \n",
    "    y = Conv2D(kernel_size=3,\n",
    "               strides= 1,\n",
    "               filters=filters,\n",
    "               padding=\"same\")(inputs)\n",
    "    y = ReLU()(y)\n",
    "    y = Conv2D(kernel_size=3,\n",
    "               strides=1,\n",
    "               filters=filters,\n",
    "               padding=\"same\")(y)\n",
    "\n",
    "    y = Add()([inputs, y])\n",
    "    y = ReLU()(y)\n",
    "    \n",
    "    y = Flatten()(y)\n",
    "    outputs = Dense(10, activation='softmax')(y)\n",
    "    \n",
    "    model = Model(inputs, outputs)\n",
    "\n",
    "    model.compile(\n",
    "        optimizer='adam',\n",
    "        loss='sparse_categorical_crossentropy',\n",
    "        metrics=['accuracy']\n",
    "    )\n",
    "\n",
    "    return model\n",
    "\n"
   ]
  },
  {
   "cell_type": "code",
   "execution_count": 81,
   "metadata": {
    "colab": {
     "base_uri": "https://localhost:8080/",
     "height": 442
    },
    "colab_type": "code",
    "id": "EcobZLhY7f5-",
    "outputId": "0b20dec6-9781-4e0a-fcfd-0a3516103f1e"
   },
   "outputs": [
    {
     "name": "stdout",
     "output_type": "stream",
     "text": [
      "__________________________________________________________________________________________________\n",
      "Layer (type)                    Output Shape         Param #     Connected to                     \n",
      "==================================================================================================\n",
      "input_7 (InputLayer)            (None, 28, 28, 1)    0                                            \n",
      "__________________________________________________________________________________________________\n",
      "conv2d_10 (Conv2D)              (None, 28, 28, 14)   140         input_7[0][0]                    \n",
      "__________________________________________________________________________________________________\n",
      "re_lu_16 (ReLU)                 (None, 28, 28, 14)   0           conv2d_10[0][0]                  \n",
      "__________________________________________________________________________________________________\n",
      "conv2d_11 (Conv2D)              (None, 28, 28, 14)   1778        re_lu_16[0][0]                   \n",
      "__________________________________________________________________________________________________\n",
      "add_6 (Add)                     (None, 28, 28, 14)   0           input_7[0][0]                    \n",
      "                                                                 conv2d_11[0][0]                  \n",
      "__________________________________________________________________________________________________\n",
      "re_lu_17 (ReLU)                 (None, 28, 28, 14)   0           add_6[0][0]                      \n",
      "__________________________________________________________________________________________________\n",
      "flatten_5 (Flatten)             (None, 10976)        0           re_lu_17[0][0]                   \n",
      "__________________________________________________________________________________________________\n",
      "dense_114 (Dense)               (None, 10)           109770      flatten_5[0][0]                  \n",
      "==================================================================================================\n",
      "Total params: 111,688\n",
      "Trainable params: 111,688\n",
      "Non-trainable params: 0\n",
      "__________________________________________________________________________________________________\n"
     ]
    }
   ],
   "source": [
    "model6 = create_conv_res_net()\n",
    "model6.summary()"
   ]
  },
  {
   "cell_type": "code",
   "execution_count": 82,
   "metadata": {
    "colab": {
     "base_uri": "https://localhost:8080/",
     "height": 102
    },
    "colab_type": "code",
    "id": "IW_TKu1L7kVh",
    "outputId": "510a34c3-3e75-44b2-9516-ec8b40f8c6bf",
    "scrolled": true
   },
   "outputs": [
    {
     "name": "stdout",
     "output_type": "stream",
     "text": [
      "Train on 20000 samples, validate on 10000 samples\n",
      "Epoch 1/10\n",
      "20000/20000 [==============================] - 34s 2ms/sample - loss: 0.3435 - acc: 0.8978 - val_loss: 0.1541 - val_acc: 0.9562\n",
      "Epoch 2/10\n",
      "20000/20000 [==============================] - 33s 2ms/sample - loss: 0.1207 - acc: 0.9639 - val_loss: 0.0973 - val_acc: 0.9711\n",
      "Epoch 3/10\n",
      "20000/20000 [==============================] - 32s 2ms/sample - loss: 0.0762 - acc: 0.9767 - val_loss: 0.0809 - val_acc: 0.9747\n",
      "Epoch 4/10\n",
      "20000/20000 [==============================] - 33s 2ms/sample - loss: 0.0516 - acc: 0.9839 - val_loss: 0.0864 - val_acc: 0.9755\n",
      "Epoch 5/10\n",
      "20000/20000 [==============================] - 33s 2ms/sample - loss: 0.0382 - acc: 0.9875 - val_loss: 0.0811 - val_acc: 0.9770\n",
      "Epoch 6/10\n",
      "20000/20000 [==============================] - 32s 2ms/sample - loss: 0.0267 - acc: 0.9919 - val_loss: 0.0808 - val_acc: 0.9779\n",
      "Epoch 7/10\n",
      "20000/20000 [==============================] - 33s 2ms/sample - loss: 0.0205 - acc: 0.9934 - val_loss: 0.0870 - val_acc: 0.9776\n",
      "Epoch 8/10\n",
      "20000/20000 [==============================] - 36s 2ms/sample - loss: 0.0173 - acc: 0.9946 - val_loss: 0.0920 - val_acc: 0.9756\n",
      "Epoch 9/10\n",
      "20000/20000 [==============================] - 34s 2ms/sample - loss: 0.0148 - acc: 0.9953 - val_loss: 0.0941 - val_acc: 0.9763\n",
      "Epoch 10/10\n",
      "20000/20000 [==============================] - 33s 2ms/sample - loss: 0.0101 - acc: 0.9973 - val_loss: 0.0955 - val_acc: 0.9776\n"
     ]
    }
   ],
   "source": [
    "history6 = model6.fit(\n",
    "    conv_train_images,\n",
    "    train_labels,\n",
    "    epochs=10,\n",
    "    validation_data=(conv_test_images, test_labels))"
   ]
  },
  {
   "cell_type": "code",
   "execution_count": 83,
   "metadata": {},
   "outputs": [],
   "source": [
    "import pickle\n",
    "histories = histories = [history1, history2, history3, history4, history5, history6]\n",
    "data = [h.history for h in histories]\n",
    "\n",
    "with open('results4.pickle', 'wb') as f:\n",
    "    pickle.dump(data, f, -1)"
   ]
  },
  {
   "cell_type": "markdown",
   "metadata": {},
   "source": [
    "# Fashion MNIST"
   ]
  },
  {
   "cell_type": "code",
   "execution_count": 4,
   "metadata": {},
   "outputs": [],
   "source": [
    "NUM_IMAGES = 20000\n",
    "\n",
    "(train_images, train_labels), (test_images, test_labels) = datasets.fashion_mnist.load_data()\n",
    "train_images, test_images = train_images / 255.0, test_images / 255.0\n",
    "\n",
    "order = np.random.permutation(len(train_images))\n",
    "train_images = train_images[order]\n",
    "train_labels = train_labels[order]\n",
    "\n",
    "train_images = train_images[:NUM_IMAGES]\n",
    "train_labels = train_labels[:NUM_IMAGES]\n",
    "train_images = np.reshape(train_images, (np.shape(train_images)[0], -1))\n",
    "conv_train_images = np.reshape(train_images, (np.shape(train_images)[0], 28, 28, 1))\n",
    "\n",
    "test_images = np.reshape(test_images, (np.shape(test_images)[0], -1))\n",
    "conv_test_images = np.reshape(test_images, (np.shape(test_images)[0], 28, 28, 1))"
   ]
  },
  {
   "cell_type": "markdown",
   "metadata": {
    "colab_type": "text",
    "id": "7EQUWwjCgs3a"
   },
   "source": [
    "# Model 1 - dense, highest symmetry"
   ]
  },
  {
   "cell_type": "code",
   "execution_count": 31,
   "metadata": {},
   "outputs": [
    {
     "name": "stdout",
     "output_type": "stream",
     "text": [
      "_________________________________________________________________\n",
      "Layer (type)                 Output Shape              Param #   \n",
      "=================================================================\n",
      "dense_47 (Dense)             (None, 128)               100480    \n",
      "_________________________________________________________________\n",
      "dense_48 (Dense)             (None, 10)                1290      \n",
      "=================================================================\n",
      "Total params: 101,770\n",
      "Trainable params: 101,770\n",
      "Non-trainable params: 0\n",
      "_________________________________________________________________\n"
     ]
    }
   ],
   "source": [
    "model1 = models.Sequential()\n",
    "model1.add(layers.Dense(128, activation='relu', input_shape=(784,)))\n",
    "model1.add(layers.Dense(10, activation='softmax'))\n",
    "model1.build()\n",
    "\n",
    "model1.compile(optimizer='adam',\n",
    "              loss='sparse_categorical_crossentropy',\n",
    "              metrics=['accuracy'])\n",
    "model1.summary()"
   ]
  },
  {
   "cell_type": "code",
   "execution_count": 32,
   "metadata": {},
   "outputs": [
    {
     "name": "stdout",
     "output_type": "stream",
     "text": [
      "Train on 20000 samples, validate on 10000 samples\n",
      "Epoch 1/10\n",
      "20000/20000 [==============================] - 3s 131us/sample - loss: 0.6166 - acc: 0.7877 - val_loss: 0.5198 - val_acc: 0.8080\n",
      "Epoch 2/10\n",
      "20000/20000 [==============================] - 2s 119us/sample - loss: 0.4543 - acc: 0.8387 - val_loss: 0.4525 - val_acc: 0.8396\n",
      "Epoch 3/10\n",
      "20000/20000 [==============================] - 2s 121us/sample - loss: 0.4073 - acc: 0.8552 - val_loss: 0.4276 - val_acc: 0.8476\n",
      "Epoch 4/10\n",
      "20000/20000 [==============================] - 2s 122us/sample - loss: 0.3716 - acc: 0.8671 - val_loss: 0.4409 - val_acc: 0.8424\n",
      "Epoch 5/10\n",
      "20000/20000 [==============================] - 2s 122us/sample - loss: 0.3494 - acc: 0.8763 - val_loss: 0.4185 - val_acc: 0.8533\n",
      "Epoch 6/10\n",
      "20000/20000 [==============================] - 2s 124us/sample - loss: 0.3271 - acc: 0.8802 - val_loss: 0.3991 - val_acc: 0.8582\n",
      "Epoch 7/10\n",
      "20000/20000 [==============================] - 3s 125us/sample - loss: 0.3114 - acc: 0.8847 - val_loss: 0.4084 - val_acc: 0.8532\n",
      "Epoch 8/10\n",
      "20000/20000 [==============================] - 3s 128us/sample - loss: 0.2910 - acc: 0.8916 - val_loss: 0.4103 - val_acc: 0.8553\n",
      "Epoch 9/10\n",
      "20000/20000 [==============================] - 3s 128us/sample - loss: 0.2795 - acc: 0.8962 - val_loss: 0.3916 - val_acc: 0.8605\n",
      "Epoch 10/10\n",
      "20000/20000 [==============================] - 3s 134us/sample - loss: 0.2657 - acc: 0.9014 - val_loss: 0.4485 - val_acc: 0.8543\n"
     ]
    }
   ],
   "source": [
    "history1 = model1.fit(train_images, train_labels, epochs=10, \n",
    "                    validation_data=(test_images, test_labels))"
   ]
  },
  {
   "cell_type": "markdown",
   "metadata": {
    "colab_type": "text",
    "id": "ADVbTTbPhAIq"
   },
   "source": [
    "## Model 2 - dense, medium symmetry"
   ]
  },
  {
   "cell_type": "code",
   "execution_count": 27,
   "metadata": {},
   "outputs": [
    {
     "name": "stdout",
     "output_type": "stream",
     "text": [
      "_________________________________________________________________\n",
      "Layer (type)                 Output Shape              Param #   \n",
      "=================================================================\n",
      "dense_40 (Dense)             (None, 96)                75360     \n",
      "_________________________________________________________________\n",
      "dense_41 (Dense)             (None, 96)                9312      \n",
      "_________________________________________________________________\n",
      "dense_42 (Dense)             (None, 10)                970       \n",
      "=================================================================\n",
      "Total params: 85,642\n",
      "Trainable params: 85,642\n",
      "Non-trainable params: 0\n",
      "_________________________________________________________________\n"
     ]
    }
   ],
   "source": [
    "model2 = models.Sequential()\n",
    "model2.add(layers.Dense(96, activation='relu', input_shape=(784,)))\n",
    "model2.add(layers.Dense(96, activation='relu'))\n",
    "model2.add(layers.Dense(10, activation='softmax'))\n",
    "model2.build()\n",
    "model2.compile(optimizer='adam',\n",
    "              loss='sparse_categorical_crossentropy',\n",
    "              metrics=['accuracy'])\n",
    "model2.summary()"
   ]
  },
  {
   "cell_type": "code",
   "execution_count": 28,
   "metadata": {},
   "outputs": [
    {
     "name": "stdout",
     "output_type": "stream",
     "text": [
      "Train on 20000 samples, validate on 10000 samples\n",
      "Epoch 1/10\n",
      "20000/20000 [==============================] - 3s 138us/sample - loss: 0.6239 - acc: 0.7750 - val_loss: 0.5212 - val_acc: 0.8092\n",
      "Epoch 2/10\n",
      "20000/20000 [==============================] - 2s 113us/sample - loss: 0.4334 - acc: 0.8427 - val_loss: 0.4361 - val_acc: 0.8443\n",
      "Epoch 3/10\n",
      "20000/20000 [==============================] - 2s 121us/sample - loss: 0.3884 - acc: 0.8556 - val_loss: 0.4082 - val_acc: 0.8548\n",
      "Epoch 4/10\n",
      "20000/20000 [==============================] - 3s 128us/sample - loss: 0.3507 - acc: 0.8707 - val_loss: 0.4272 - val_acc: 0.8442\n",
      "Epoch 5/10\n",
      "20000/20000 [==============================] - 2s 121us/sample - loss: 0.3346 - acc: 0.8763 - val_loss: 0.4115 - val_acc: 0.8543\n",
      "Epoch 6/10\n",
      "20000/20000 [==============================] - 2s 115us/sample - loss: 0.3121 - acc: 0.8837 - val_loss: 0.4108 - val_acc: 0.8500\n",
      "Epoch 7/10\n",
      "20000/20000 [==============================] - 2s 115us/sample - loss: 0.2979 - acc: 0.8896 - val_loss: 0.4175 - val_acc: 0.8541\n",
      "Epoch 8/10\n",
      "20000/20000 [==============================] - 2s 114us/sample - loss: 0.2854 - acc: 0.8934 - val_loss: 0.3900 - val_acc: 0.8634\n",
      "Epoch 9/10\n",
      "20000/20000 [==============================] - 2s 115us/sample - loss: 0.2756 - acc: 0.8976 - val_loss: 0.4187 - val_acc: 0.8466\n",
      "Epoch 10/10\n",
      "20000/20000 [==============================] - 2s 121us/sample - loss: 0.2603 - acc: 0.9022 - val_loss: 0.3967 - val_acc: 0.8646\n"
     ]
    }
   ],
   "source": [
    "history2 = model2.fit(train_images, train_labels, epochs=10, \n",
    "                    validation_data=(test_images, test_labels))"
   ]
  },
  {
   "cell_type": "markdown",
   "metadata": {
    "colab_type": "text",
    "id": "TDqwM3SjkGJe"
   },
   "source": [
    "# Model 3 - lowest symmetry of dense models"
   ]
  },
  {
   "cell_type": "code",
   "execution_count": 29,
   "metadata": {},
   "outputs": [
    {
     "name": "stdout",
     "output_type": "stream",
     "text": [
      "_________________________________________________________________\n",
      "Layer (type)                 Output Shape              Param #   \n",
      "=================================================================\n",
      "dense_43 (Dense)             (None, 90)                70650     \n",
      "_________________________________________________________________\n",
      "dense_44 (Dense)             (None, 90)                8190      \n",
      "_________________________________________________________________\n",
      "dense_45 (Dense)             (None, 90)                8190      \n",
      "_________________________________________________________________\n",
      "dense_46 (Dense)             (None, 10)                910       \n",
      "=================================================================\n",
      "Total params: 87,940\n",
      "Trainable params: 87,940\n",
      "Non-trainable params: 0\n",
      "_________________________________________________________________\n"
     ]
    }
   ],
   "source": [
    "model3 = models.Sequential()\n",
    "model3.add(Dense(90, activation='relu', input_shape=(784,)))\n",
    "model3.add(Dense(90, activation='relu'))\n",
    "model3.add(Dense(90, activation='relu'))\n",
    "model3.add(Dense(10, activation='softmax'))\n",
    "model3.build()\n",
    "model3.compile(optimizer='adam',\n",
    "              loss='sparse_categorical_crossentropy',\n",
    "              metrics=['accuracy'])\n",
    "model3.summary()"
   ]
  },
  {
   "cell_type": "code",
   "execution_count": 30,
   "metadata": {},
   "outputs": [
    {
     "name": "stdout",
     "output_type": "stream",
     "text": [
      "Train on 20000 samples, validate on 10000 samples\n",
      "Epoch 1/10\n",
      "20000/20000 [==============================] - 3s 138us/sample - loss: 0.6283 - acc: 0.7768 - val_loss: 0.4942 - val_acc: 0.8194\n",
      "Epoch 2/10\n",
      "20000/20000 [==============================] - 2s 118us/sample - loss: 0.4386 - acc: 0.8407 - val_loss: 0.4363 - val_acc: 0.8423\n",
      "Epoch 3/10\n",
      "20000/20000 [==============================] - 2s 117us/sample - loss: 0.3874 - acc: 0.8564 - val_loss: 0.4775 - val_acc: 0.8280\n",
      "Epoch 4/10\n",
      "20000/20000 [==============================] - 3s 137us/sample - loss: 0.3544 - acc: 0.8691 - val_loss: 0.4144 - val_acc: 0.8501\n",
      "Epoch 5/10\n",
      "20000/20000 [==============================] - 2s 112us/sample - loss: 0.3372 - acc: 0.8763 - val_loss: 0.4028 - val_acc: 0.8533\n",
      "Epoch 6/10\n",
      "20000/20000 [==============================] - 3s 136us/sample - loss: 0.3168 - acc: 0.8828 - val_loss: 0.3976 - val_acc: 0.8519\n",
      "Epoch 7/10\n",
      "20000/20000 [==============================] - 2s 123us/sample - loss: 0.3016 - acc: 0.8865 - val_loss: 0.3847 - val_acc: 0.8656\n",
      "Epoch 8/10\n",
      "20000/20000 [==============================] - 2s 115us/sample - loss: 0.2839 - acc: 0.8920 - val_loss: 0.3937 - val_acc: 0.8581\n",
      "Epoch 9/10\n",
      "20000/20000 [==============================] - 2s 117us/sample - loss: 0.2787 - acc: 0.8935 - val_loss: 0.3894 - val_acc: 0.8624\n",
      "Epoch 10/10\n",
      "20000/20000 [==============================] - 3s 133us/sample - loss: 0.2644 - acc: 0.9002 - val_loss: 0.4275 - val_acc: 0.8462\n"
     ]
    }
   ],
   "source": [
    "history3 = model3.fit(train_images, train_labels, epochs=10,\n",
    "                    validation_data=(test_images, test_labels))"
   ]
  },
  {
   "cell_type": "code",
   "execution_count": 33,
   "metadata": {},
   "outputs": [],
   "source": [
    "import pickle\n",
    "histories = histories = [history1, history2, history3]\n",
    "data = [h.history for h in histories]\n",
    "\n",
    "with open('results_fmnist.pickle', 'wb') as f:\n",
    "    pickle.dump(data, f, -1)"
   ]
  }
 ],
 "metadata": {
  "colab": {
   "collapsed_sections": [],
   "name": "Symmetry.ipynb",
   "provenance": []
  },
  "kernelspec": {
   "display_name": "Python 3",
   "language": "python",
   "name": "python3"
  },
  "language_info": {
   "codemirror_mode": {
    "name": "ipython",
    "version": 3
   },
   "file_extension": ".py",
   "mimetype": "text/x-python",
   "name": "python",
   "nbconvert_exporter": "python",
   "pygments_lexer": "ipython3",
   "version": "3.7.0"
  }
 },
 "nbformat": 4,
 "nbformat_minor": 4
}
